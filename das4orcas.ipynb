{
 "cells": [
  {
   "cell_type": "markdown",
   "metadata": {},
   "source": [
    "## DAS4Orcas first Widbey Island visualization attempt"
   ]
  },
  {
   "cell_type": "code",
   "execution_count": 1,
   "metadata": {},
   "outputs": [
    {
     "ename": "ModuleNotFoundError",
     "evalue": "No module named 'das4whales'",
     "output_type": "error",
     "traceback": [
      "\u001b[31m---------------------------------------------------------------------------\u001b[39m",
      "\u001b[31mModuleNotFoundError\u001b[39m                       Traceback (most recent call last)",
      "\u001b[36mCell\u001b[39m\u001b[36m \u001b[39m\u001b[32mIn[1]\u001b[39m\u001b[32m, line 9\u001b[39m\n\u001b[32m      7\u001b[39m \u001b[38;5;28;01mimport\u001b[39;00m\u001b[38;5;250m \u001b[39m\u001b[34;01mscipy\u001b[39;00m\u001b[34;01m.\u001b[39;00m\u001b[34;01msignal\u001b[39;00m\u001b[38;5;250m \u001b[39m\u001b[38;5;28;01mas\u001b[39;00m\u001b[38;5;250m \u001b[39m\u001b[34;01msp\u001b[39;00m\n\u001b[32m      8\u001b[39m \u001b[38;5;28;01mimport\u001b[39;00m\u001b[38;5;250m \u001b[39m\u001b[34;01mmatplotlib\u001b[39;00m\u001b[34;01m.\u001b[39;00m\u001b[34;01mpyplot\u001b[39;00m\u001b[38;5;250m \u001b[39m\u001b[38;5;28;01mas\u001b[39;00m\u001b[38;5;250m \u001b[39m\u001b[34;01mplt\u001b[39;00m\n\u001b[32m----> \u001b[39m\u001b[32m9\u001b[39m \u001b[38;5;28;01mimport\u001b[39;00m\u001b[38;5;250m \u001b[39m\u001b[34;01mdas4whales\u001b[39;00m\u001b[38;5;250m \u001b[39m\u001b[38;5;28;01mas\u001b[39;00m\u001b[38;5;250m \u001b[39m\u001b[34;01mdw\u001b[39;00m \u001b[38;5;66;03m# Import the das4whales library, if not installed refer to https://das4whales.readthedocs.io/en/latest/src/install.html\u001b[39;00m\n",
      "\u001b[31mModuleNotFoundError\u001b[39m: No module named 'das4whales'"
     ]
    }
   ],
   "source": [
    "# pip install autoreload if not installed\n",
    "# import autoreload\n",
    "# %load_ext autoreload\n",
    "# %autoreload 2\n",
    "# Imports\n",
    "import numpy as np\n",
    "import scipy.signal as sp\n",
    "import matplotlib.pyplot as plt\n",
    "import das4whales as dw # Import the das4whales library, if not installed refer to https://das4whales.readthedocs.io/en/latest/src/install.html"
   ]
  },
  {
   "cell_type": "code",
   "execution_count": null,
   "metadata": {},
   "outputs": [],
   "source": [
    "# filepath = 'data/decimator_2024-10-25_23.44.00_UTC_006608.h5'\n",
    "# filename = 'decimator_22024-10-25_23.44.00_UTC_006608.h5'\n",
    "\n",
    "# filepath = 'data/decimator_2024-10-29_20.26.00_UTC_012170.h5'\n",
    "# filename = 'decimator_2024-10-29_20.26.00_UTC_012170.h5'\n",
    "\n",
    "# filepath = 'data/decimator_2024-10-25_23.46.00_UTC_006610.h5'\n",
    "# filename = 'decimator_22024-10-25_23.46.00_UTC_006610.h5'\n",
    "\n",
    "# filepath = 'data/decimator_2024-10-25_23.47.00_UTC_006611.h5'\n",
    "# filename = 'decimator_22024-10-25_23.47.00_UTC_006611.h5'\n",
    "\n",
    "# filepath = 'data/decimator_2024-10-25_23.48.00_UTC_006612.h5'\n",
    "# filename = 'decimator_22024-10-25_23.48.00_UTC_006612.h5'\n",
    "\n",
    "# filepath = 'data/decimator_2024-10-25_23.49.00_UTC_006613.h5'\n",
    "# filename = 'decimator_22024-10-25_23.49.00_UTC_006613.h5'"
   ]
  },
  {
   "cell_type": "code",
   "execution_count": null,
   "metadata": {},
   "outputs": [],
   "source": [
    "filepath = 'data/decimator_2025-07-21_19.00.00_UTC_126827.h5'\n",
    "filename = 'decimator_2025-07-21_19.00.00_UTC_126827.h5'"
   ]
  },
  {
   "cell_type": "code",
   "execution_count": null,
   "metadata": {},
   "outputs": [],
   "source": [
    "# Read HDF5 files and access metadata\n",
    "# Get the acquisition parameters for the data folder\n",
    "metadata = dw.data_handle.get_acquisition_parameters(filepath, interrogator='onyx')\n",
    "fs, dx, nx, ns, gauge_length, scale_factor = metadata[\"fs\"], metadata[\"dx\"], metadata[\"nx\"], metadata[\"ns\"], metadata[\"GL\"], metadata[\"scale_factor\"]\n",
    "\n",
    "print(f'Sampling frequency: {metadata[\"fs\"]} Hz')\n",
    "print(f'Channel spacing: {metadata[\"dx\"]} m')\n",
    "print(f'Gauge length: {metadata[\"GL\"]} m')\n",
    "print(f'File duration: {metadata[\"ns\"] / metadata[\"fs\"]} s')\n",
    "print(f'Cable max distance: {metadata[\"nx\"] * metadata[\"dx\"]/1e3:.1f} km')\n",
    "print(f'Number of channels: {metadata[\"nx\"]}')\n",
    "print(f'Number of time samples: {metadata[\"ns\"]}')"
   ]
  },
  {
   "cell_type": "code",
   "execution_count": null,
   "metadata": {},
   "outputs": [],
   "source": [
    "selected_channels_m_north = [0, 15000, 7]  # list of values in meters corresponding to the starting,\n",
    "                                                # ending and step wanted channels along the FO Cable\n",
    "                                                # selected_channels_m = [ChannelStart_m, ChannelStop_m, ChannelStep_m]\n",
    "                                                # in meters\n",
    "\n",
    "                                                # ### Select the desired channels and channel interval\n",
    "\n",
    "selected_channels = [int(selected_channels_m // dx) for selected_channels_m in\n",
    "                selected_channels_m_north]  # list of values in channel number (spatial sample) corresponding to the starting, ending and step wanted\n",
    "                                        # channels along the FO Cable\n",
    "                                        # selected_channels = [ChannelStart, ChannelStop, ChannelStep] in channel\n",
    "                                        # numbers\n",
    "\n",
    "print('Begin channel #:', selected_channels[0], \n",
    "', End channel #: ',selected_channels[1], \n",
    "', step: ',selected_channels[2], \n",
    "'equivalent to ',selected_channels[2]*dx,' m')"
   ]
  },
  {
   "cell_type": "code",
   "execution_count": null,
   "metadata": {},
   "outputs": [],
   "source": [
    "tr, time, dist, fileBeginTimeUTC = dw.data_handle.load_das_data(filepath, selected_channels, metadata)\n",
    "metadata[\"fileBeginTimeUTC\"] = fileBeginTimeUTC.strftime(\"%Y-%m-%d_%H:%M:%S\")"
   ]
  },
  {
   "cell_type": "code",
   "execution_count": null,
   "metadata": {},
   "outputs": [],
   "source": [
    "# Bandpass the data between 0.1 and 1 Hz\n",
    "b, a = sp.butter(4, [400,950], 'bp', fs=fs)\n",
    "# b, a = sp.butter(2, 30, 'high', fs=fs)\n",
    "tr = sp.filtfilt(b, a, tr, axis=1)"
   ]
  },
  {
   "cell_type": "code",
   "execution_count": null,
   "metadata": {},
   "outputs": [],
   "source": [
    "# Useful commands to free memory (jupyter notebook does not free memory after a cell is executed)\n",
    "import gc\n",
    "gc.collect()"
   ]
  },
  {
   "cell_type": "code",
   "execution_count": null,
   "metadata": {},
   "outputs": [],
   "source": [
    "# Adapt the scale of the data to the plot\n",
    "min_tr = np.min(tr)\n",
    "max_tr = np.max(tr)\n",
    "scale = np.min([np.abs(min_tr), np.abs(max_tr)]) *0.0000001"
   ]
  },
  {
   "cell_type": "code",
   "execution_count": null,
   "metadata": {},
   "outputs": [],
   "source": [
    "# Plot the data\n",
    "plt.figure(figsize=(10, 6))\n",
    "plt.imshow(tr, origin='lower', aspect='auto', cmap='RdBu_r', extent=[0, time[-1], dist[0], dist[-1]], vmin=-scale, vmax=scale)\n",
    "plt.ylabel('Optical distance (m)')\n",
    "plt.xlabel('Time (s)')\n",
    "# plt.ylim(3500,4000)\n",
    "# plt.xlim(45, 52)\n",
    "plt.colorbar(label='Strain [-]')\n",
    "plt.show()"
   ]
  }
 ],
 "metadata": {
  "kernelspec": {
   "display_name": "venv",
   "language": "python",
   "name": "python3"
  },
  "language_info": {
   "codemirror_mode": {
    "name": "ipython",
    "version": 3
   },
   "file_extension": ".py",
   "mimetype": "text/x-python",
   "name": "python",
   "nbconvert_exporter": "python",
   "pygments_lexer": "ipython3",
   "version": "3.13.5"
  }
 },
 "nbformat": 4,
 "nbformat_minor": 2
}
